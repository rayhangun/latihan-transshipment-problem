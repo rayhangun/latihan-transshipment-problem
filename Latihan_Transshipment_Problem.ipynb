{
  "nbformat": 4,
  "nbformat_minor": 0,
  "metadata": {
    "colab": {
      "name": "Latihan-Transshipment-Problem.ipynb",
      "provenance": []
    },
    "kernelspec": {
      "name": "python3",
      "display_name": "Python 3"
    },
    "language_info": {
      "name": "python"
    }
  },
  "cells": [
    {
      "cell_type": "code",
      "source": [
        "# install dulu package-nya\n",
        "!pip install pulp"
      ],
      "metadata": {
        "colab": {
          "base_uri": "https://localhost:8080/"
        },
        "id": "Du_rKNUZWiGe",
        "outputId": "f95b7745-2fda-4c40-f0ff-44a293e920b1"
      },
      "execution_count": 1,
      "outputs": [
        {
          "output_type": "stream",
          "name": "stdout",
          "text": [
            "Looking in indexes: https://pypi.org/simple, https://us-python.pkg.dev/colab-wheels/public/simple/\n",
            "Collecting pulp\n",
            "  Downloading PuLP-2.6.0-py3-none-any.whl (14.2 MB)\n",
            "\u001b[K     |████████████████████████████████| 14.2 MB 5.4 MB/s \n",
            "\u001b[?25hInstalling collected packages: pulp\n",
            "Successfully installed pulp-2.6.0\n"
          ]
        }
      ]
    },
    {
      "cell_type": "code",
      "execution_count": 2,
      "metadata": {
        "id": "pRlfaSlrVHg8"
      },
      "outputs": [],
      "source": [
        "# import package-nya ke python\n",
        "from pulp import *"
      ]
    },
    {
      "cell_type": "code",
      "source": [
        "# create the LP object, set up as a minimization problem --> since we want to minimize the cost of shipping goods\n",
        "problem = pulp.LpProblem('Transshipment_Problem', LpMinimize)\n",
        "\n",
        "# declare the variables\n",
        "x13 = LpVariable(\"Denver to Kansas City\", lowBound = 0)\n",
        "x14 = LpVariable(\"Denver to Louisville\", lowBound = 0)\n",
        "x23 = LpVariable(\"Atlanta to Kansas City\", lowBound = 0)\n",
        "x24 = LpVariable(\"Atlanta to Louisville\", lowBound = 0)\n",
        "x35 = LpVariable(\"Kansas City to Detroit\", lowBound = 0)\n",
        "x36 = LpVariable(\"Kansas City to Miami\", lowBound = 0)\n",
        "x37 = LpVariable(\"Kansas City to Dallas\", lowBound = 0)\n",
        "x38 = LpVariable(\"Kansas City to New Orleans\", lowBound = 0)\n",
        "x45 = LpVariable(\"Louisville to Detroit\", lowBound = 0)\n",
        "x46 = LpVariable(\"Louisville to Miami\", lowBound = 0)\n",
        "x47 = LpVariable(\"Louisville to Dallas\", lowBound = 0)\n",
        "x48 = LpVariable(\"Louisville to New Orleans\", lowBound = 0)\n",
        "\n",
        "# define the objective function\n",
        "problem += 2*x13 + 3*x14 + 3*x23 + 1*x24 + 2*x35 + 6*x36 + 3*x37 + 6*x38 + 4*x45 + 4*x46 + 6*x47 + 5*x48, 'Objective function'\n",
        "\n",
        "# define the constraint(s)\n",
        "problem += x13 + x14 <= 600, 'Denver Plant constraint'\n",
        "problem += x23 + x24 <= 400, 'Atlanta Plant constraint'\n",
        "problem += -x13 -x23 + x35 + x36 + x37 + x38 == 0, 'Kansas City Warehouse constraint'\n",
        "problem += -x14 -x24 + x45 + x46 + x47 + x48 == 0, 'Louisville Warehouse constraint'\n",
        "problem += x35 + x45 == 200, 'Detroit Outlet constraint'\n",
        "problem += x36 + x46 == 150, 'Miami Outlet constraint'\n",
        "problem += x37 + x47 == 350, 'Dallas Outlet constraint'\n",
        "problem += x38 + x48 == 300, 'New Orleans Outlet constraint'\n",
        "\n",
        "problem # display the LP problem"
      ],
      "metadata": {
        "colab": {
          "base_uri": "https://localhost:8080/"
        },
        "id": "6Tx4ktjFWmo8",
        "outputId": "f82e1e41-f26f-4aa5-eb15-26d620751bc6"
      },
      "execution_count": 3,
      "outputs": [
        {
          "output_type": "execute_result",
          "data": {
            "text/plain": [
              "Transshipment_Problem:\n",
              "MINIMIZE\n",
              "3*Atlanta_to_Kansas_City + 1*Atlanta_to_Louisville + 2*Denver_to_Kansas_City + 3*Denver_to_Louisville + 3*Kansas_City_to_Dallas + 2*Kansas_City_to_Detroit + 6*Kansas_City_to_Miami + 6*Kansas_City_to_New_Orleans + 6*Louisville_to_Dallas + 4*Louisville_to_Detroit + 4*Louisville_to_Miami + 5*Louisville_to_New_Orleans + 0\n",
              "SUBJECT TO\n",
              "Denver_Plant_constraint: Denver_to_Kansas_City + Denver_to_Louisville <= 600\n",
              "\n",
              "Atlanta_Plant_constraint: Atlanta_to_Kansas_City + Atlanta_to_Louisville\n",
              " <= 400\n",
              "\n",
              "Kansas_City_Warehouse_constraint: - Atlanta_to_Kansas_City\n",
              " - Denver_to_Kansas_City + Kansas_City_to_Dallas + Kansas_City_to_Detroit\n",
              " + Kansas_City_to_Miami + Kansas_City_to_New_Orleans = 0\n",
              "\n",
              "Louisville_Warehouse_constraint: - Atlanta_to_Louisville\n",
              " - Denver_to_Louisville + Louisville_to_Dallas + Louisville_to_Detroit\n",
              " + Louisville_to_Miami + Louisville_to_New_Orleans = 0\n",
              "\n",
              "Detroit_Outlet_constraint: Kansas_City_to_Detroit + Louisville_to_Detroit\n",
              " = 200\n",
              "\n",
              "Miami_Outlet_constraint: Kansas_City_to_Miami + Louisville_to_Miami = 150\n",
              "\n",
              "Dallas_Outlet_constraint: Kansas_City_to_Dallas + Louisville_to_Dallas = 350\n",
              "\n",
              "New_Orleans_Outlet_constraint: Kansas_City_to_New_Orleans\n",
              " + Louisville_to_New_Orleans = 300\n",
              "\n",
              "VARIABLES\n",
              "Atlanta_to_Kansas_City Continuous\n",
              "Atlanta_to_Louisville Continuous\n",
              "Denver_to_Kansas_City Continuous\n",
              "Denver_to_Louisville Continuous\n",
              "Kansas_City_to_Dallas Continuous\n",
              "Kansas_City_to_Detroit Continuous\n",
              "Kansas_City_to_Miami Continuous\n",
              "Kansas_City_to_New_Orleans Continuous\n",
              "Louisville_to_Dallas Continuous\n",
              "Louisville_to_Detroit Continuous\n",
              "Louisville_to_Miami Continuous\n",
              "Louisville_to_New_Orleans Continuous"
            ]
          },
          "metadata": {},
          "execution_count": 3
        }
      ]
    },
    {
      "cell_type": "code",
      "source": [
        "problem.solve() # solving the problem"
      ],
      "metadata": {
        "colab": {
          "base_uri": "https://localhost:8080/"
        },
        "id": "HEoh4KCmdxyw",
        "outputId": "0c1f1c7c-1b16-4f20-f739-2a2ae91bae2e"
      },
      "execution_count": 4,
      "outputs": [
        {
          "output_type": "execute_result",
          "data": {
            "text/plain": [
              "1"
            ]
          },
          "metadata": {},
          "execution_count": 4
        }
      ]
    },
    {
      "cell_type": "code",
      "source": [
        "print(\"Status = \", LpStatus[problem.status])\n",
        "print(\"Total Cost = \", value(problem.objective))"
      ],
      "metadata": {
        "colab": {
          "base_uri": "https://localhost:8080/"
        },
        "id": "b0F-CRALd4Sj",
        "outputId": "2385e1f6-983a-4678-d630-8c4dee668bfe"
      },
      "execution_count": 5,
      "outputs": [
        {
          "output_type": "stream",
          "name": "stdout",
          "text": [
            "Status =  Optimal\n",
            "Total Cost =  5200.0\n"
          ]
        }
      ]
    },
    {
      "cell_type": "code",
      "source": [
        "for v in problem.variables():\n",
        "    print(v.name, \"cost =\", v.varValue)"
      ],
      "metadata": {
        "colab": {
          "base_uri": "https://localhost:8080/"
        },
        "id": "WFfMPIIZd5Ue",
        "outputId": "c51f9421-df27-40e6-ac0a-aa5bed2967ef"
      },
      "execution_count": 6,
      "outputs": [
        {
          "output_type": "stream",
          "name": "stdout",
          "text": [
            "Atlanta_to_Kansas_City cost = 0.0\n",
            "Atlanta_to_Louisville cost = 400.0\n",
            "Denver_to_Kansas_City cost = 550.0\n",
            "Denver_to_Louisville cost = 50.0\n",
            "Kansas_City_to_Dallas cost = 350.0\n",
            "Kansas_City_to_Detroit cost = 200.0\n",
            "Kansas_City_to_Miami cost = 0.0\n",
            "Kansas_City_to_New_Orleans cost = 0.0\n",
            "Louisville_to_Dallas cost = 0.0\n",
            "Louisville_to_Detroit cost = 0.0\n",
            "Louisville_to_Miami cost = 150.0\n",
            "Louisville_to_New_Orleans cost = 300.0\n"
          ]
        }
      ]
    }
  ]
}